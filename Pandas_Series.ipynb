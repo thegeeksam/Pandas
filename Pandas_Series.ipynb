{
  "nbformat": 4,
  "nbformat_minor": 0,
  "metadata": {
    "colab": {
      "name": "Pandas Series.ipynb",
      "provenance": [],
      "collapsed_sections": [],
      "authorship_tag": "ABX9TyOF1eJdHwromCsAeGxaBFJK",
      "include_colab_link": true
    },
    "kernelspec": {
      "name": "python3",
      "display_name": "Python 3"
    }
  },
  "cells": [
    {
      "cell_type": "markdown",
      "metadata": {
        "id": "view-in-github",
        "colab_type": "text"
      },
      "source": [
        "<a href=\"https://colab.research.google.com/github/thegeeksam/Pandas/blob/master/Pandas_Series.ipynb\" target=\"_parent\"><img src=\"https://colab.research.google.com/assets/colab-badge.svg\" alt=\"Open In Colab\"/></a>"
      ]
    },
    {
      "cell_type": "code",
      "metadata": {
        "id": "aiDMb60ybGX9",
        "colab_type": "code",
        "colab": {
          "base_uri": "https://localhost:8080/",
          "height": 215
        },
        "outputId": "c776104d-1f0d-4d55-92d9-b7833802056a"
      },
      "source": [
        "#import Panda Module as pd\n",
        "import pandas as pd\n",
        "\n",
        "#Create a series object s1 with  3 items. i.e., integer, string and tuple.\n",
        "#Index are 0, 1 & 2 by default.\n",
        "s1 = pd.Series([1,'SECE',(28,5)])\n",
        "\n",
        "#Create a series object s2 with  3 strings \n",
        "#Index of strings are SuperHero1, SuperHero2 and SuperHero3.\n",
        "s2 = pd.Series(['AntMan','IronMan','Hulk'],index = ['SuperHero1','SuperHero2','SuperHero1'])\n",
        "\n",
        "#Print both the series\n",
        "print(\"Series 1 ->\\n\", s1)\n",
        "print(\"\\nSeries s ->\\n\", s2)\n"
      ],
      "execution_count": 7,
      "outputs": [
        {
          "output_type": "stream",
          "text": [
            "Series 1 ->\n",
            " 0          1\n",
            "1       SECE\n",
            "2    (28, 5)\n",
            "dtype: object\n",
            "\n",
            "Series s ->\n",
            " SuperHero1     AntMan\n",
            "SuperHero2    IronMan\n",
            "SuperHero1       Hulk\n",
            "dtype: object\n"
          ],
          "name": "stdout"
        }
      ]
    }
  ]
}