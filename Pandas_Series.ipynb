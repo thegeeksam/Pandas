{
  "nbformat": 4,
  "nbformat_minor": 0,
  "metadata": {
    "colab": {
      "name": "Pandas Series.ipynb",
      "provenance": [],
      "collapsed_sections": [],
      "authorship_tag": "ABX9TyPAnvjTbDoe702SuSMx/HjA",
      "include_colab_link": true
    },
    "kernelspec": {
      "name": "python3",
      "display_name": "Python 3"
    }
  },
  "cells": [
    {
      "cell_type": "markdown",
      "metadata": {
        "id": "view-in-github",
        "colab_type": "text"
      },
      "source": [
        "<a href=\"https://colab.research.google.com/github/thegeeksam/Pandas/blob/master/Pandas_Series.ipynb\" target=\"_parent\"><img src=\"https://colab.research.google.com/assets/colab-badge.svg\" alt=\"Open In Colab\"/></a>"
      ]
    },
    {
      "cell_type": "code",
      "metadata": {
        "id": "zOy4SjgFguCh",
        "colab_type": "code",
        "outputId": "8331e060-03cd-4c07-c71d-6e8bed3706e8",
        "colab": {
          "base_uri": "https://localhost:8080/",
          "height": 125
        }
      },
      "source": [
        "#import Panda Module as pd\n",
        "import pandas as pd\n",
        "\n",
        "#Create a series object ds with 5 items\n",
        "ds = pd.Series([2, 4, 6, 8, 10])\n",
        "\n",
        "#print\n",
        "print(ds)"
      ],
      "execution_count": 0,
      "outputs": [
        {
          "output_type": "stream",
          "text": [
            "0     2\n",
            "1     4\n",
            "2     6\n",
            "3     8\n",
            "4    10\n",
            "dtype: int64\n"
          ],
          "name": "stdout"
        }
      ]
    },
    {
      "cell_type": "code",
      "metadata": {
        "id": "aiDMb60ybGX9",
        "colab_type": "code",
        "outputId": "c776104d-1f0d-4d55-92d9-b7833802056a",
        "colab": {
          "base_uri": "https://localhost:8080/",
          "height": 215
        }
      },
      "source": [
        "#import Panda Module as pd\n",
        "import pandas as pd\n",
        "\n",
        "#Create a series object s1 with  3 items. i.e., integer, string and tuple.\n",
        "#Index are 0, 1 & 2 by default.\n",
        "s1 = pd.Series([1,'SECE',(28,5)])\n",
        "\n",
        "#Create a series object s2 with  3 strings \n",
        "#Index of strings are SuperHero1, SuperHero2 and SuperHero3.\n",
        "s2 = pd.Series(['AntMan','IronMan','Hulk'],index = ['SuperHero1','SuperHero2','SuperHero1'])\n",
        "\n",
        "#Print both the series\n",
        "print(\"Series 1 ->\\n\", s1)\n",
        "print(\"\\nSeries s ->\\n\", s2)\n"
      ],
      "execution_count": 0,
      "outputs": [
        {
          "output_type": "stream",
          "text": [
            "Series 1 ->\n",
            " 0          1\n",
            "1       SECE\n",
            "2    (28, 5)\n",
            "dtype: object\n",
            "\n",
            "Series s ->\n",
            " SuperHero1     AntMan\n",
            "SuperHero2    IronMan\n",
            "SuperHero1       Hulk\n",
            "dtype: object\n"
          ],
          "name": "stdout"
        }
      ]
    },
    {
      "cell_type": "code",
      "metadata": {
        "id": "GXnwFb-yhhzj",
        "colab_type": "code",
        "outputId": "09bf6813-a3ed-4b25-948e-5e3711a83e71",
        "colab": {
          "base_uri": "https://localhost:8080/",
          "height": 125
        }
      },
      "source": [
        "#Creating a series from Lists\n",
        "import pandas as pd\n",
        " \n",
        "# a simple list\n",
        "list = ['g', 'e', 'e', 'k', 's']\n",
        "  \n",
        "# create series form a list\n",
        "series = pd.Series(list)\n",
        "print(series)\n"
      ],
      "execution_count": 0,
      "outputs": [
        {
          "output_type": "stream",
          "text": [
            "0    g\n",
            "1    e\n",
            "2    e\n",
            "3    k\n",
            "4    s\n",
            "dtype: object\n"
          ],
          "name": "stdout"
        }
      ]
    },
    {
      "cell_type": "code",
      "metadata": {
        "id": "h2CFEdLdgbcL",
        "colab_type": "code",
        "outputId": "8d0d0aeb-8217-455c-fca2-a4145736388c",
        "colab": {
          "base_uri": "https://localhost:8080/",
          "height": 179
        }
      },
      "source": [
        "# dictionary to a Pandas series.\n",
        "import pandas as pd\n",
        "# Dictionary\n",
        "d1 = {'a': 100, 'b': 200, 'c':300, 'd':400, 'e':800}\n",
        "print(\"Original dictionary:\")\n",
        "print(d1)\n",
        "\n",
        "series = pd.Series(d1)\n",
        "print(\"Converted series:\")\n",
        "print(series)"
      ],
      "execution_count": 0,
      "outputs": [
        {
          "output_type": "stream",
          "text": [
            "Original dictionary:\n",
            "{'a': 100, 'b': 200, 'c': 300, 'd': 400, 'e': 800}\n",
            "Converted series:\n",
            "a    100\n",
            "b    200\n",
            "c    300\n",
            "d    400\n",
            "e    800\n",
            "dtype: int64\n"
          ],
          "name": "stdout"
        }
      ]
    },
    {
      "cell_type": "code",
      "metadata": {
        "id": "tmP6-VbojwSO",
        "colab_type": "code",
        "outputId": "33d6099b-be88-44c9-80a7-e5b042d10301",
        "colab": {
          "base_uri": "https://localhost:8080/",
          "height": 233
        }
      },
      "source": [
        "#Import Series from External Source\n",
        "import pandas as pd\n",
        "\n",
        "df = pd.read_csv(\"https://raw.githubusercontent.com/thegeeksam/DataSet/master/nba.csv\")\n",
        "series = pd.Series(df['Name']) \n",
        "print(series)"
      ],
      "execution_count": 0,
      "outputs": [
        {
          "output_type": "stream",
          "text": [
            "0      Avery Bradley\n",
            "1        Jae Crowder\n",
            "2       John Holland\n",
            "3        R.J. Hunter\n",
            "4      Jonas Jerebko\n",
            "           ...      \n",
            "453     Shelvin Mack\n",
            "454        Raul Neto\n",
            "455     Tibor Pleiss\n",
            "456      Jeff Withey\n",
            "457              NaN\n",
            "Name: Name, Length: 458, dtype: object\n"
          ],
          "name": "stdout"
        }
      ]
    }
  ]
}